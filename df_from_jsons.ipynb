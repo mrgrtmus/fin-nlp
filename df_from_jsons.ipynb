{
 "cells": [
  {
   "cell_type": "code",
   "execution_count": 1,
   "id": "08c483b2",
   "metadata": {},
   "outputs": [],
   "source": [
    "import pandas as pd\n",
    "import json\n",
    "import os"
   ]
  },
  {
   "cell_type": "code",
   "execution_count": 2,
   "id": "f3e19dce",
   "metadata": {},
   "outputs": [],
   "source": [
    "directory_path = '2018_01' "
   ]
  },
  {
   "cell_type": "code",
   "execution_count": 3,
   "id": "e9644bb3",
   "metadata": {},
   "outputs": [],
   "source": [
    "# !! Never call DataFrame.append or pd.concat inside a for-loop. It leads to quadratic copying.\n",
    "# First create a list of data frames and then concatenate them. \n",
    "\n",
    "titles = []\n",
    "published = []\n",
    "text = [] \n",
    "\n",
    "for filename in os.listdir(directory_path):\n",
    "    if filename.endswith('.json'):\n",
    "        file_path = os.path.join(directory_path, filename)\n",
    "        with open(file_path, 'r', encoding='utf-8') as file:  # some chars cannot be decoded using the default encoding\n",
    "            \n",
    "            json_data = json.load(file)\n",
    "            \n",
    "            titles.append(json_data.get('title'))\n",
    "            published.append(json_data.get('published'))\n",
    "            text.append(json_data.get('text'))\n",
    "            \n",
    "df = pd.DataFrame({'title': titles, 'published': published, 'text': text})\n"
   ]
  },
  {
   "cell_type": "code",
   "execution_count": 4,
   "id": "81531063",
   "metadata": {},
   "outputs": [
    {
     "data": {
      "text/html": [
       "<div>\n",
       "<style scoped>\n",
       "    .dataframe tbody tr th:only-of-type {\n",
       "        vertical-align: middle;\n",
       "    }\n",
       "\n",
       "    .dataframe tbody tr th {\n",
       "        vertical-align: top;\n",
       "    }\n",
       "\n",
       "    .dataframe thead th {\n",
       "        text-align: right;\n",
       "    }\n",
       "</style>\n",
       "<table border=\"1\" class=\"dataframe\">\n",
       "  <thead>\n",
       "    <tr style=\"text-align: right;\">\n",
       "      <th></th>\n",
       "      <th>title</th>\n",
       "      <th>published</th>\n",
       "      <th>text</th>\n",
       "    </tr>\n",
       "  </thead>\n",
       "  <tbody>\n",
       "    <tr>\n",
       "      <th>0</th>\n",
       "      <td>Emerging markets are set for an even bigger ra...</td>\n",
       "      <td>2018-01-03T15:00:00.000+02:00</td>\n",
       "      <td>17 Hours Ago | 02:56 \\nEmerging markets soared...</td>\n",
       "    </tr>\n",
       "    <tr>\n",
       "      <th>1</th>\n",
       "      <td>Cramer reflects on how Trump's actions are fue...</td>\n",
       "      <td>2018-01-03T01:34:00.000+02:00</td>\n",
       "      <td>Cramer reflects on how Trump's actions are fue...</td>\n",
       "    </tr>\n",
       "    <tr>\n",
       "      <th>2</th>\n",
       "      <td>The Wall Street Journal: Peter Thiel’s VC firm...</td>\n",
       "      <td>2018-01-03T00:59:00.000+02:00</td>\n",
       "      <td>Published: Jan 2, 2018 5:59 p.m. ET Share \\nFe...</td>\n",
       "    </tr>\n",
       "    <tr>\n",
       "      <th>3</th>\n",
       "      <td>Hoda Kotb Will Replace Matt Lauer on NBC’s ‘To...</td>\n",
       "      <td>2018-01-02T15:23:00.000+02:00</td>\n",
       "      <td>By Reuters 8:23 AM EST \\nTelevision host Hoda ...</td>\n",
       "    </tr>\n",
       "    <tr>\n",
       "      <th>4</th>\n",
       "      <td>UK's Compass says new CEO to start Jan 1 after...</td>\n",
       "      <td>2018-01-01T11:03:00.000+02:00</td>\n",
       "      <td>January 1, 2018 / 8:56 AM / Updated 5 hours ag...</td>\n",
       "    </tr>\n",
       "  </tbody>\n",
       "</table>\n",
       "</div>"
      ],
      "text/plain": [
       "                                               title  \\\n",
       "0  Emerging markets are set for an even bigger ra...   \n",
       "1  Cramer reflects on how Trump's actions are fue...   \n",
       "2  The Wall Street Journal: Peter Thiel’s VC firm...   \n",
       "3  Hoda Kotb Will Replace Matt Lauer on NBC’s ‘To...   \n",
       "4  UK's Compass says new CEO to start Jan 1 after...   \n",
       "\n",
       "                       published  \\\n",
       "0  2018-01-03T15:00:00.000+02:00   \n",
       "1  2018-01-03T01:34:00.000+02:00   \n",
       "2  2018-01-03T00:59:00.000+02:00   \n",
       "3  2018-01-02T15:23:00.000+02:00   \n",
       "4  2018-01-01T11:03:00.000+02:00   \n",
       "\n",
       "                                                text  \n",
       "0  17 Hours Ago | 02:56 \\nEmerging markets soared...  \n",
       "1  Cramer reflects on how Trump's actions are fue...  \n",
       "2  Published: Jan 2, 2018 5:59 p.m. ET Share \\nFe...  \n",
       "3  By Reuters 8:23 AM EST \\nTelevision host Hoda ...  \n",
       "4  January 1, 2018 / 8:56 AM / Updated 5 hours ag...  "
      ]
     },
     "execution_count": 4,
     "metadata": {},
     "output_type": "execute_result"
    }
   ],
   "source": [
    "df.head()"
   ]
  },
  {
   "cell_type": "code",
   "execution_count": 5,
   "id": "1e46c758",
   "metadata": {},
   "outputs": [
    {
     "data": {
      "text/plain": [
       "(57802, 3)"
      ]
     },
     "execution_count": 5,
     "metadata": {},
     "output_type": "execute_result"
    }
   ],
   "source": [
    "df.shape"
   ]
  },
  {
   "cell_type": "code",
   "execution_count": 6,
   "id": "7745f1af",
   "metadata": {},
   "outputs": [],
   "source": [
    "# Keep the date part\n",
    "df['published'] = pd.to_datetime(df['published'])\n",
    "df['published'] = df['published'].dt.date"
   ]
  },
  {
   "cell_type": "code",
   "execution_count": 7,
   "id": "362412d5",
   "metadata": {},
   "outputs": [
    {
     "data": {
      "text/html": [
       "<div>\n",
       "<style scoped>\n",
       "    .dataframe tbody tr th:only-of-type {\n",
       "        vertical-align: middle;\n",
       "    }\n",
       "\n",
       "    .dataframe tbody tr th {\n",
       "        vertical-align: top;\n",
       "    }\n",
       "\n",
       "    .dataframe thead th {\n",
       "        text-align: right;\n",
       "    }\n",
       "</style>\n",
       "<table border=\"1\" class=\"dataframe\">\n",
       "  <thead>\n",
       "    <tr style=\"text-align: right;\">\n",
       "      <th></th>\n",
       "      <th>title</th>\n",
       "      <th>published</th>\n",
       "      <th>text</th>\n",
       "    </tr>\n",
       "  </thead>\n",
       "  <tbody>\n",
       "    <tr>\n",
       "      <th>0</th>\n",
       "      <td>Emerging markets are set for an even bigger ra...</td>\n",
       "      <td>2018-01-03</td>\n",
       "      <td>17 Hours Ago | 02:56 \\nEmerging markets soared...</td>\n",
       "    </tr>\n",
       "    <tr>\n",
       "      <th>1</th>\n",
       "      <td>Cramer reflects on how Trump's actions are fue...</td>\n",
       "      <td>2018-01-03</td>\n",
       "      <td>Cramer reflects on how Trump's actions are fue...</td>\n",
       "    </tr>\n",
       "    <tr>\n",
       "      <th>2</th>\n",
       "      <td>The Wall Street Journal: Peter Thiel’s VC firm...</td>\n",
       "      <td>2018-01-03</td>\n",
       "      <td>Published: Jan 2, 2018 5:59 p.m. ET Share \\nFe...</td>\n",
       "    </tr>\n",
       "    <tr>\n",
       "      <th>3</th>\n",
       "      <td>Hoda Kotb Will Replace Matt Lauer on NBC’s ‘To...</td>\n",
       "      <td>2018-01-02</td>\n",
       "      <td>By Reuters 8:23 AM EST \\nTelevision host Hoda ...</td>\n",
       "    </tr>\n",
       "    <tr>\n",
       "      <th>4</th>\n",
       "      <td>UK's Compass says new CEO to start Jan 1 after...</td>\n",
       "      <td>2018-01-01</td>\n",
       "      <td>January 1, 2018 / 8:56 AM / Updated 5 hours ag...</td>\n",
       "    </tr>\n",
       "  </tbody>\n",
       "</table>\n",
       "</div>"
      ],
      "text/plain": [
       "                                               title   published  \\\n",
       "0  Emerging markets are set for an even bigger ra...  2018-01-03   \n",
       "1  Cramer reflects on how Trump's actions are fue...  2018-01-03   \n",
       "2  The Wall Street Journal: Peter Thiel’s VC firm...  2018-01-03   \n",
       "3  Hoda Kotb Will Replace Matt Lauer on NBC’s ‘To...  2018-01-02   \n",
       "4  UK's Compass says new CEO to start Jan 1 after...  2018-01-01   \n",
       "\n",
       "                                                text  \n",
       "0  17 Hours Ago | 02:56 \\nEmerging markets soared...  \n",
       "1  Cramer reflects on how Trump's actions are fue...  \n",
       "2  Published: Jan 2, 2018 5:59 p.m. ET Share \\nFe...  \n",
       "3  By Reuters 8:23 AM EST \\nTelevision host Hoda ...  \n",
       "4  January 1, 2018 / 8:56 AM / Updated 5 hours ag...  "
      ]
     },
     "execution_count": 7,
     "metadata": {},
     "output_type": "execute_result"
    }
   ],
   "source": [
    "df.head()"
   ]
  },
  {
   "cell_type": "code",
   "execution_count": 8,
   "id": "3fee224c",
   "metadata": {},
   "outputs": [],
   "source": [
    "# Remove \\n \n",
    "import re\n",
    "df['text'] = df['text'].apply(lambda text: re.sub(r'\\s+', ' ', text).strip())"
   ]
  },
  {
   "cell_type": "code",
   "execution_count": 9,
   "id": "87370895",
   "metadata": {},
   "outputs": [
    {
     "data": {
      "text/html": [
       "<div>\n",
       "<style scoped>\n",
       "    .dataframe tbody tr th:only-of-type {\n",
       "        vertical-align: middle;\n",
       "    }\n",
       "\n",
       "    .dataframe tbody tr th {\n",
       "        vertical-align: top;\n",
       "    }\n",
       "\n",
       "    .dataframe thead th {\n",
       "        text-align: right;\n",
       "    }\n",
       "</style>\n",
       "<table border=\"1\" class=\"dataframe\">\n",
       "  <thead>\n",
       "    <tr style=\"text-align: right;\">\n",
       "      <th></th>\n",
       "      <th>title</th>\n",
       "      <th>published</th>\n",
       "      <th>text</th>\n",
       "    </tr>\n",
       "  </thead>\n",
       "  <tbody>\n",
       "    <tr>\n",
       "      <th>0</th>\n",
       "      <td>Emerging markets are set for an even bigger ra...</td>\n",
       "      <td>2018-01-03</td>\n",
       "      <td>17 Hours Ago | 02:56 Emerging markets soared m...</td>\n",
       "    </tr>\n",
       "    <tr>\n",
       "      <th>1</th>\n",
       "      <td>Cramer reflects on how Trump's actions are fue...</td>\n",
       "      <td>2018-01-03</td>\n",
       "      <td>Cramer reflects on how Trump's actions are fue...</td>\n",
       "    </tr>\n",
       "    <tr>\n",
       "      <th>2</th>\n",
       "      <td>The Wall Street Journal: Peter Thiel’s VC firm...</td>\n",
       "      <td>2018-01-03</td>\n",
       "      <td>Published: Jan 2, 2018 5:59 p.m. ET Share Few ...</td>\n",
       "    </tr>\n",
       "    <tr>\n",
       "      <th>3</th>\n",
       "      <td>Hoda Kotb Will Replace Matt Lauer on NBC’s ‘To...</td>\n",
       "      <td>2018-01-02</td>\n",
       "      <td>By Reuters 8:23 AM EST Television host Hoda Ko...</td>\n",
       "    </tr>\n",
       "    <tr>\n",
       "      <th>4</th>\n",
       "      <td>UK's Compass says new CEO to start Jan 1 after...</td>\n",
       "      <td>2018-01-01</td>\n",
       "      <td>January 1, 2018 / 8:56 AM / Updated 5 hours ag...</td>\n",
       "    </tr>\n",
       "  </tbody>\n",
       "</table>\n",
       "</div>"
      ],
      "text/plain": [
       "                                               title   published  \\\n",
       "0  Emerging markets are set for an even bigger ra...  2018-01-03   \n",
       "1  Cramer reflects on how Trump's actions are fue...  2018-01-03   \n",
       "2  The Wall Street Journal: Peter Thiel’s VC firm...  2018-01-03   \n",
       "3  Hoda Kotb Will Replace Matt Lauer on NBC’s ‘To...  2018-01-02   \n",
       "4  UK's Compass says new CEO to start Jan 1 after...  2018-01-01   \n",
       "\n",
       "                                                text  \n",
       "0  17 Hours Ago | 02:56 Emerging markets soared m...  \n",
       "1  Cramer reflects on how Trump's actions are fue...  \n",
       "2  Published: Jan 2, 2018 5:59 p.m. ET Share Few ...  \n",
       "3  By Reuters 8:23 AM EST Television host Hoda Ko...  \n",
       "4  January 1, 2018 / 8:56 AM / Updated 5 hours ag...  "
      ]
     },
     "execution_count": 9,
     "metadata": {},
     "output_type": "execute_result"
    }
   ],
   "source": [
    "df.head()"
   ]
  },
  {
   "cell_type": "code",
   "execution_count": null,
   "id": "3e9d3b97",
   "metadata": {},
   "outputs": [],
   "source": [
    "# df.to_csv('dataset_2018_01.csv', index=False)"
   ]
  },
  {
   "cell_type": "code",
   "execution_count": 10,
   "id": "ce5c0683",
   "metadata": {},
   "outputs": [],
   "source": [
    "dataset_2018_01 = pd.read_csv('dataset_2018_01.csv')"
   ]
  },
  {
   "cell_type": "code",
   "execution_count": 11,
   "id": "e0e31b79",
   "metadata": {},
   "outputs": [],
   "source": [
    "r = dataset_2018_01.iloc[23]"
   ]
  },
  {
   "cell_type": "code",
   "execution_count": 12,
   "id": "ebc6b5bb",
   "metadata": {},
   "outputs": [
    {
     "name": "stdout",
     "output_type": "stream",
     "text": [
      "Uber’s Financials: An Inside Look - Wall Street Journal\t2018-01-03\tSubscribe Sign In Uber’s Financials: An Inside Look Uber Technologies Inc. isn't obligated to publicly disclose its financial records as a privately held company. The Wall Street Journal reviewed recent quarterly statements that show how fast the most valuable U.S. private technology company is growing — and losing money.\n"
     ]
    }
   ],
   "source": [
    "print('\\t'.join(map(str, r)))"
   ]
  },
  {
   "cell_type": "code",
   "execution_count": null,
   "id": "7151dbb1",
   "metadata": {},
   "outputs": [],
   "source": []
  }
 ],
 "metadata": {
  "kernelspec": {
   "display_name": "Python 3 (ipykernel)",
   "language": "python",
   "name": "python3"
  },
  "language_info": {
   "codemirror_mode": {
    "name": "ipython",
    "version": 3
   },
   "file_extension": ".py",
   "mimetype": "text/x-python",
   "name": "python",
   "nbconvert_exporter": "python",
   "pygments_lexer": "ipython3",
   "version": "3.11.4"
  }
 },
 "nbformat": 4,
 "nbformat_minor": 5
}
